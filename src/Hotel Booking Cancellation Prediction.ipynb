{
 "cells": [
  {
   "cell_type": "markdown",
   "id": "64d2f936",
   "metadata": {},
   "source": [
    "# Hotel Booking Analysis"
   ]
  },
  {
   "cell_type": "code",
   "execution_count": 2,
   "id": "784e0ae7",
   "metadata": {},
   "outputs": [],
   "source": [
    "# importing required libraries\n",
    "import pandas as pd"
   ]
  },
  {
   "cell_type": "code",
   "execution_count": 3,
   "id": "52bef527",
   "metadata": {},
   "outputs": [],
   "source": [
    "# reading dataset into data frame\n",
    "bookings = pd.read_csv('https://intro-datascience.s3.us-east-2.amazonaws.com/Resort01.csv', na_values='NULL')"
   ]
  },
  {
   "cell_type": "code",
   "execution_count": 4,
   "id": "ead07521",
   "metadata": {},
   "outputs": [
    {
     "data": {
      "text/html": [
       "<div>\n",
       "<style scoped>\n",
       "    .dataframe tbody tr th:only-of-type {\n",
       "        vertical-align: middle;\n",
       "    }\n",
       "\n",
       "    .dataframe tbody tr th {\n",
       "        vertical-align: top;\n",
       "    }\n",
       "\n",
       "    .dataframe thead th {\n",
       "        text-align: right;\n",
       "    }\n",
       "</style>\n",
       "<table border=\"1\" class=\"dataframe\">\n",
       "  <thead>\n",
       "    <tr style=\"text-align: right;\">\n",
       "      <th></th>\n",
       "      <th>IsCanceled</th>\n",
       "      <th>LeadTime</th>\n",
       "      <th>StaysInWeekendNights</th>\n",
       "      <th>StaysInWeekNights</th>\n",
       "      <th>Adults</th>\n",
       "      <th>Children</th>\n",
       "      <th>Babies</th>\n",
       "      <th>Meal</th>\n",
       "      <th>Country</th>\n",
       "      <th>MarketSegment</th>\n",
       "      <th>IsRepeatedGuest</th>\n",
       "      <th>PreviousCancellations</th>\n",
       "      <th>PreviousBookingsNotCanceled</th>\n",
       "      <th>ReservedRoomType</th>\n",
       "      <th>AssignedRoomType</th>\n",
       "      <th>BookingChanges</th>\n",
       "      <th>DepositType</th>\n",
       "      <th>CustomerType</th>\n",
       "      <th>RequiredCarParkingSpaces</th>\n",
       "      <th>TotalOfSpecialRequests</th>\n",
       "    </tr>\n",
       "  </thead>\n",
       "  <tbody>\n",
       "    <tr>\n",
       "      <th>0</th>\n",
       "      <td>0</td>\n",
       "      <td>342</td>\n",
       "      <td>0</td>\n",
       "      <td>0</td>\n",
       "      <td>2</td>\n",
       "      <td>0</td>\n",
       "      <td>0</td>\n",
       "      <td>BB</td>\n",
       "      <td>PRT</td>\n",
       "      <td>Direct</td>\n",
       "      <td>0</td>\n",
       "      <td>0</td>\n",
       "      <td>0</td>\n",
       "      <td>C</td>\n",
       "      <td>C</td>\n",
       "      <td>3</td>\n",
       "      <td>No Deposit</td>\n",
       "      <td>Transient</td>\n",
       "      <td>0</td>\n",
       "      <td>0</td>\n",
       "    </tr>\n",
       "    <tr>\n",
       "      <th>1</th>\n",
       "      <td>0</td>\n",
       "      <td>737</td>\n",
       "      <td>0</td>\n",
       "      <td>0</td>\n",
       "      <td>2</td>\n",
       "      <td>0</td>\n",
       "      <td>0</td>\n",
       "      <td>BB</td>\n",
       "      <td>PRT</td>\n",
       "      <td>Direct</td>\n",
       "      <td>0</td>\n",
       "      <td>0</td>\n",
       "      <td>0</td>\n",
       "      <td>C</td>\n",
       "      <td>C</td>\n",
       "      <td>4</td>\n",
       "      <td>No Deposit</td>\n",
       "      <td>Transient</td>\n",
       "      <td>0</td>\n",
       "      <td>0</td>\n",
       "    </tr>\n",
       "    <tr>\n",
       "      <th>2</th>\n",
       "      <td>0</td>\n",
       "      <td>7</td>\n",
       "      <td>0</td>\n",
       "      <td>1</td>\n",
       "      <td>1</td>\n",
       "      <td>0</td>\n",
       "      <td>0</td>\n",
       "      <td>BB</td>\n",
       "      <td>GBR</td>\n",
       "      <td>Direct</td>\n",
       "      <td>0</td>\n",
       "      <td>0</td>\n",
       "      <td>0</td>\n",
       "      <td>A</td>\n",
       "      <td>C</td>\n",
       "      <td>0</td>\n",
       "      <td>No Deposit</td>\n",
       "      <td>Transient</td>\n",
       "      <td>0</td>\n",
       "      <td>0</td>\n",
       "    </tr>\n",
       "    <tr>\n",
       "      <th>3</th>\n",
       "      <td>0</td>\n",
       "      <td>13</td>\n",
       "      <td>0</td>\n",
       "      <td>1</td>\n",
       "      <td>1</td>\n",
       "      <td>0</td>\n",
       "      <td>0</td>\n",
       "      <td>BB</td>\n",
       "      <td>GBR</td>\n",
       "      <td>Corporate</td>\n",
       "      <td>0</td>\n",
       "      <td>0</td>\n",
       "      <td>0</td>\n",
       "      <td>A</td>\n",
       "      <td>A</td>\n",
       "      <td>0</td>\n",
       "      <td>No Deposit</td>\n",
       "      <td>Transient</td>\n",
       "      <td>0</td>\n",
       "      <td>0</td>\n",
       "    </tr>\n",
       "    <tr>\n",
       "      <th>4</th>\n",
       "      <td>0</td>\n",
       "      <td>14</td>\n",
       "      <td>0</td>\n",
       "      <td>2</td>\n",
       "      <td>2</td>\n",
       "      <td>0</td>\n",
       "      <td>0</td>\n",
       "      <td>BB</td>\n",
       "      <td>GBR</td>\n",
       "      <td>Online TA</td>\n",
       "      <td>0</td>\n",
       "      <td>0</td>\n",
       "      <td>0</td>\n",
       "      <td>A</td>\n",
       "      <td>A</td>\n",
       "      <td>0</td>\n",
       "      <td>No Deposit</td>\n",
       "      <td>Transient</td>\n",
       "      <td>0</td>\n",
       "      <td>1</td>\n",
       "    </tr>\n",
       "  </tbody>\n",
       "</table>\n",
       "</div>"
      ],
      "text/plain": [
       "   IsCanceled  LeadTime  StaysInWeekendNights  StaysInWeekNights  Adults  \\\n",
       "0           0       342                     0                  0       2   \n",
       "1           0       737                     0                  0       2   \n",
       "2           0         7                     0                  1       1   \n",
       "3           0        13                     0                  1       1   \n",
       "4           0        14                     0                  2       2   \n",
       "\n",
       "   Children  Babies       Meal Country MarketSegment  IsRepeatedGuest  \\\n",
       "0         0       0  BB            PRT        Direct                0   \n",
       "1         0       0  BB            PRT        Direct                0   \n",
       "2         0       0  BB            GBR        Direct                0   \n",
       "3         0       0  BB            GBR     Corporate                0   \n",
       "4         0       0  BB            GBR     Online TA                0   \n",
       "\n",
       "   PreviousCancellations  PreviousBookingsNotCanceled  ReservedRoomType  \\\n",
       "0                      0                            0  C                  \n",
       "1                      0                            0  C                  \n",
       "2                      0                            0  A                  \n",
       "3                      0                            0  A                  \n",
       "4                      0                            0  A                  \n",
       "\n",
       "   AssignedRoomType  BookingChanges      DepositType CustomerType  \\\n",
       "0  C                              3  No Deposit         Transient   \n",
       "1  C                              4  No Deposit         Transient   \n",
       "2  C                              0  No Deposit         Transient   \n",
       "3  A                              0  No Deposit         Transient   \n",
       "4  A                              0  No Deposit         Transient   \n",
       "\n",
       "   RequiredCarParkingSpaces  TotalOfSpecialRequests  \n",
       "0                         0                       0  \n",
       "1                         0                       0  \n",
       "2                         0                       0  \n",
       "3                         0                       0  \n",
       "4                         0                       1  "
      ]
     },
     "execution_count": 4,
     "metadata": {},
     "output_type": "execute_result"
    }
   ],
   "source": [
    "# first 5 rows of the data\n",
    "bookings.head()"
   ]
  },
  {
   "cell_type": "code",
   "execution_count": 6,
   "id": "81695158",
   "metadata": {},
   "outputs": [
    {
     "name": "stdout",
     "output_type": "stream",
     "text": [
      "<class 'pandas.core.frame.DataFrame'>\n",
      "RangeIndex: 40060 entries, 0 to 40059\n",
      "Data columns (total 20 columns):\n",
      " #   Column                       Non-Null Count  Dtype \n",
      "---  ------                       --------------  ----- \n",
      " 0   IsCanceled                   40060 non-null  int64 \n",
      " 1   LeadTime                     40060 non-null  int64 \n",
      " 2   StaysInWeekendNights         40060 non-null  int64 \n",
      " 3   StaysInWeekNights            40060 non-null  int64 \n",
      " 4   Adults                       40060 non-null  int64 \n",
      " 5   Children                     40060 non-null  int64 \n",
      " 6   Babies                       40060 non-null  int64 \n",
      " 7   Meal                         40060 non-null  object\n",
      " 8   Country                      39596 non-null  object\n",
      " 9   MarketSegment                40060 non-null  object\n",
      " 10  IsRepeatedGuest              40060 non-null  int64 \n",
      " 11  PreviousCancellations        40060 non-null  int64 \n",
      " 12  PreviousBookingsNotCanceled  40060 non-null  int64 \n",
      " 13  ReservedRoomType             40060 non-null  object\n",
      " 14  AssignedRoomType             40060 non-null  object\n",
      " 15  BookingChanges               40060 non-null  int64 \n",
      " 16  DepositType                  40060 non-null  object\n",
      " 17  CustomerType                 40060 non-null  object\n",
      " 18  RequiredCarParkingSpaces     40060 non-null  int64 \n",
      " 19  TotalOfSpecialRequests       40060 non-null  int64 \n",
      "dtypes: int64(13), object(7)\n",
      "memory usage: 6.1+ MB\n"
     ]
    }
   ],
   "source": [
    "bookings.info() # summary of the data type"
   ]
  },
  {
   "cell_type": "code",
   "execution_count": 17,
   "id": "a5800956",
   "metadata": {},
   "outputs": [
    {
     "data": {
      "text/plain": [
       "Meal     \n",
       "BB           30005\n",
       "HB            8046\n",
       "Undefined     1169\n",
       "FB             754\n",
       "SC              86\n",
       "dtype: int64"
      ]
     },
     "execution_count": 17,
     "metadata": {},
     "output_type": "execute_result"
    }
   ],
   "source": [
    "bookings['Meal'].value_counts()"
   ]
  },
  {
   "cell_type": "code",
   "execution_count": 9,
   "id": "a57dbe02",
   "metadata": {},
   "outputs": [
    {
     "data": {
      "text/plain": [
       "PRT    17630\n",
       "GBR     6814\n",
       "ESP     3957\n",
       "IRL     2166\n",
       "FRA     1611\n",
       "       ...  \n",
       "BIH        1\n",
       "MUS        1\n",
       "COM        1\n",
       "UGA        1\n",
       "DJI        1\n",
       "Name: Country, Length: 125, dtype: int64"
      ]
     },
     "execution_count": 9,
     "metadata": {},
     "output_type": "execute_result"
    }
   ],
   "source": [
    "bookings['Country'].value_counts()"
   ]
  },
  {
   "cell_type": "code",
   "execution_count": 10,
   "id": "9d107b42",
   "metadata": {},
   "outputs": [
    {
     "data": {
      "text/plain": [
       "Online TA        17729\n",
       "Offline TA/TO     7472\n",
       "Direct            6513\n",
       "Groups            5836\n",
       "Corporate         2309\n",
       "Complementary      201\n",
       "Name: MarketSegment, dtype: int64"
      ]
     },
     "execution_count": 10,
     "metadata": {},
     "output_type": "execute_result"
    }
   ],
   "source": [
    "bookings['MarketSegment'].value_counts()"
   ]
  },
  {
   "cell_type": "code",
   "execution_count": 11,
   "id": "4774aedc",
   "metadata": {},
   "outputs": [
    {
     "data": {
      "text/plain": [
       "A                   23399\n",
       "D                    7433\n",
       "E                    4982\n",
       "G                    1610\n",
       "F                    1106\n",
       "C                     918\n",
       "H                     601\n",
       "L                       6\n",
       "B                       3\n",
       "P                       2\n",
       "Name: ReservedRoomType, dtype: int64"
      ]
     },
     "execution_count": 11,
     "metadata": {},
     "output_type": "execute_result"
    }
   ],
   "source": [
    "bookings['ReservedRoomType'].value_counts()"
   ]
  },
  {
   "cell_type": "code",
   "execution_count": 13,
   "id": "54518cbd",
   "metadata": {},
   "outputs": [
    {
     "data": {
      "text/plain": [
       "A                   17046\n",
       "D                   10339\n",
       "E                    5638\n",
       "C                    2214\n",
       "G                    1853\n",
       "F                    1733\n",
       "H                     712\n",
       "I                     363\n",
       "B                     159\n",
       "P                       2\n",
       "L                       1\n",
       "Name: AssignedRoomType, dtype: int64"
      ]
     },
     "execution_count": 13,
     "metadata": {},
     "output_type": "execute_result"
    }
   ],
   "source": [
    "bookings['AssignedRoomType'].value_counts()"
   ]
  },
  {
   "cell_type": "code",
   "execution_count": 14,
   "id": "d911a5dc",
   "metadata": {},
   "outputs": [
    {
     "data": {
      "text/plain": [
       "No Deposit         38199\n",
       "Non Refund          1719\n",
       "Refundable           142\n",
       "Name: DepositType, dtype: int64"
      ]
     },
     "execution_count": 14,
     "metadata": {},
     "output_type": "execute_result"
    }
   ],
   "source": [
    "bookings['DepositType'].value_counts()"
   ]
  },
  {
   "cell_type": "code",
   "execution_count": 15,
   "id": "222eb462",
   "metadata": {},
   "outputs": [
    {
     "data": {
      "text/plain": [
       "Transient          30209\n",
       "Transient-Party     7791\n",
       "Contract            1776\n",
       "Group                284\n",
       "Name: CustomerType, dtype: int64"
      ]
     },
     "execution_count": 15,
     "metadata": {},
     "output_type": "execute_result"
    }
   ],
   "source": [
    "bookings['CustomerType'].value_counts()"
   ]
  },
  {
   "cell_type": "code",
   "execution_count": null,
   "id": "d6569771",
   "metadata": {},
   "outputs": [],
   "source": []
  }
 ],
 "metadata": {
  "kernelspec": {
   "display_name": "Python 3 (ipykernel)",
   "language": "python",
   "name": "python3"
  },
  "language_info": {
   "codemirror_mode": {
    "name": "ipython",
    "version": 3
   },
   "file_extension": ".py",
   "mimetype": "text/x-python",
   "name": "python",
   "nbconvert_exporter": "python",
   "pygments_lexer": "ipython3",
   "version": "3.9.7"
  }
 },
 "nbformat": 4,
 "nbformat_minor": 5
}
